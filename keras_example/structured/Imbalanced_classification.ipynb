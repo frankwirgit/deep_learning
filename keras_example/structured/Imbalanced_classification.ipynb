{
 "cells": [
  {
   "cell_type": "markdown",
   "metadata": {},
   "source": [
    "Jupyter Notebook tips: https://www.dataquest.io/blog/jupyter-notebook-tips-tricks-shortcuts/\n",
    "1. command + shift + f  (open command palette)\n",
    "\n",
    "2. evaluate variable in each line\n",
    "from IPython.core.interactiveshell import InteractiveShell\n",
    "InteractiveShell.ast_node_interactivity = \"all\"\n",
    "OR\n",
    "create a file ~/.ipython/profile_default/ipython_config.py with the lines below.\n",
    "c = get_config()\n",
    "\n",
    "#Run all nodes interactively\n",
    "c.InteractiveShell.ast_node_interactivity = \"all\"\n"
   ]
  },
  {
   "cell_type": "code",
   "execution_count": null,
   "metadata": {},
   "outputs": [],
   "source": [
    "from IPython.core.interactiveshell import InteractiveShell\n",
    "InteractiveShell.ast_node_interactivity = \"all\""
   ]
  },
  {
   "cell_type": "markdown",
   "metadata": {},
   "source": [
    "\n",
    "3. Easy links to documentation\n",
    "3.1. Under menu of \"Help\" or \n",
    "3.2. ?str.replace()\n",
    "\n",
    "4. Plotting in notebooks\n",
    "There are many options for generating plots in your notebooks.\n",
    "\n",
    "matplotlib (the de-facto standard), activated with %matplotlib inline – Here’s a Dataquest Matplotlib Tutorial.\n",
    "%matplotlib notebook provides interactivity but can be a little slow, since rendering is done server-side.\n",
    "Seaborn is built over Matplotlib and makes building more attractive plots easier. Just by importing Seaborn, your matplotlib plots are made ‘prettier’ without any code modification.\n",
    "mpld3 provides alternative renderer (using d3) for matplotlib code. Quite nice, though incomplete.\n",
    "bokeh is a better option for building interactive plots.\n",
    "plot.ly can generate nice plots – this used to be a paid service only but was recently open sourced.\n",
    "Altair is a relatively new declarative visualization library for Python. It’s easy to use and makes great looking plots, however the ability to customize those plots is not nearly as powerful as in Matplotlib.\n",
    "\n",
    "5. IPython Magic Commands\n"
   ]
  },
  {
   "cell_type": "code",
   "execution_count": 4,
   "metadata": {},
   "outputs": [
    {
     "data": {
      "application/json": {
       "cell": {
        "!": "OSMagics",
        "HTML": "Other",
        "SVG": "Other",
        "bash": "Other",
        "capture": "ExecutionMagics",
        "debug": "ExecutionMagics",
        "file": "Other",
        "html": "DisplayMagics",
        "javascript": "DisplayMagics",
        "js": "DisplayMagics",
        "latex": "DisplayMagics",
        "markdown": "DisplayMagics",
        "perl": "Other",
        "prun": "ExecutionMagics",
        "pypy": "Other",
        "python": "Other",
        "python2": "Other",
        "python3": "Other",
        "ruby": "Other",
        "script": "ScriptMagics",
        "sh": "Other",
        "svg": "DisplayMagics",
        "sx": "OSMagics",
        "system": "OSMagics",
        "time": "ExecutionMagics",
        "timeit": "ExecutionMagics",
        "writefile": "OSMagics"
       },
       "line": {
        "alias": "OSMagics",
        "alias_magic": "BasicMagics",
        "autoawait": "AsyncMagics",
        "autocall": "AutoMagics",
        "automagic": "AutoMagics",
        "autosave": "KernelMagics",
        "bookmark": "OSMagics",
        "cat": "Other",
        "cd": "OSMagics",
        "clear": "KernelMagics",
        "colors": "BasicMagics",
        "conda": "PackagingMagics",
        "config": "ConfigMagics",
        "connect_info": "KernelMagics",
        "cp": "Other",
        "debug": "ExecutionMagics",
        "dhist": "OSMagics",
        "dirs": "OSMagics",
        "doctest_mode": "BasicMagics",
        "ed": "Other",
        "edit": "KernelMagics",
        "env": "OSMagics",
        "gui": "BasicMagics",
        "hist": "Other",
        "history": "HistoryMagics",
        "killbgscripts": "ScriptMagics",
        "ldir": "Other",
        "less": "KernelMagics",
        "lf": "Other",
        "lk": "Other",
        "ll": "Other",
        "load": "CodeMagics",
        "load_ext": "ExtensionMagics",
        "loadpy": "CodeMagics",
        "logoff": "LoggingMagics",
        "logon": "LoggingMagics",
        "logstart": "LoggingMagics",
        "logstate": "LoggingMagics",
        "logstop": "LoggingMagics",
        "ls": "Other",
        "lsmagic": "BasicMagics",
        "lx": "Other",
        "macro": "ExecutionMagics",
        "magic": "BasicMagics",
        "man": "KernelMagics",
        "matplotlib": "PylabMagics",
        "mkdir": "Other",
        "more": "KernelMagics",
        "mv": "Other",
        "notebook": "BasicMagics",
        "page": "BasicMagics",
        "pastebin": "CodeMagics",
        "pdb": "ExecutionMagics",
        "pdef": "NamespaceMagics",
        "pdoc": "NamespaceMagics",
        "pfile": "NamespaceMagics",
        "pinfo": "NamespaceMagics",
        "pinfo2": "NamespaceMagics",
        "pip": "PackagingMagics",
        "popd": "OSMagics",
        "pprint": "BasicMagics",
        "precision": "BasicMagics",
        "prun": "ExecutionMagics",
        "psearch": "NamespaceMagics",
        "psource": "NamespaceMagics",
        "pushd": "OSMagics",
        "pwd": "OSMagics",
        "pycat": "OSMagics",
        "pylab": "PylabMagics",
        "qtconsole": "KernelMagics",
        "quickref": "BasicMagics",
        "recall": "HistoryMagics",
        "rehashx": "OSMagics",
        "reload_ext": "ExtensionMagics",
        "rep": "Other",
        "rerun": "HistoryMagics",
        "reset": "NamespaceMagics",
        "reset_selective": "NamespaceMagics",
        "rm": "Other",
        "rmdir": "Other",
        "run": "ExecutionMagics",
        "save": "CodeMagics",
        "sc": "OSMagics",
        "set_env": "OSMagics",
        "store": "StoreMagics",
        "sx": "OSMagics",
        "system": "OSMagics",
        "tb": "ExecutionMagics",
        "time": "ExecutionMagics",
        "timeit": "ExecutionMagics",
        "unalias": "OSMagics",
        "unload_ext": "ExtensionMagics",
        "who": "NamespaceMagics",
        "who_ls": "NamespaceMagics",
        "whos": "NamespaceMagics",
        "xdel": "NamespaceMagics",
        "xmode": "BasicMagics"
       }
      },
      "text/plain": [
       "Available line magics:\n",
       "%alias  %alias_magic  %autoawait  %autocall  %automagic  %autosave  %bookmark  %cat  %cd  %clear  %colors  %conda  %config  %connect_info  %cp  %debug  %dhist  %dirs  %doctest_mode  %ed  %edit  %env  %gui  %hist  %history  %killbgscripts  %ldir  %less  %lf  %lk  %ll  %load  %load_ext  %loadpy  %logoff  %logon  %logstart  %logstate  %logstop  %ls  %lsmagic  %lx  %macro  %magic  %man  %matplotlib  %mkdir  %more  %mv  %notebook  %page  %pastebin  %pdb  %pdef  %pdoc  %pfile  %pinfo  %pinfo2  %pip  %popd  %pprint  %precision  %prun  %psearch  %psource  %pushd  %pwd  %pycat  %pylab  %qtconsole  %quickref  %recall  %rehashx  %reload_ext  %rep  %rerun  %reset  %reset_selective  %rm  %rmdir  %run  %save  %sc  %set_env  %store  %sx  %system  %tb  %time  %timeit  %unalias  %unload_ext  %who  %who_ls  %whos  %xdel  %xmode\n",
       "\n",
       "Available cell magics:\n",
       "%%!  %%HTML  %%SVG  %%bash  %%capture  %%debug  %%file  %%html  %%javascript  %%js  %%latex  %%markdown  %%perl  %%prun  %%pypy  %%python  %%python2  %%python3  %%ruby  %%script  %%sh  %%svg  %%sx  %%system  %%time  %%timeit  %%writefile\n",
       "\n",
       "Automagic is ON, % prefix IS NOT needed for line magics."
      ]
     },
     "execution_count": 4,
     "metadata": {},
     "output_type": "execute_result"
    }
   ],
   "source": [
    "# This will list all magic commands\n",
    "%lsmagic\n",
    "#https://ipython.readthedocs.io/en/stable/interactive/magics.html"
   ]
  },
  {
   "cell_type": "markdown",
   "metadata": {},
   "source": [
    "6. IPython Magic – %env: Set Environment Variables\n",
    "You can manage environment variables of your notebook without restarting the jupyter server process. Some libraries (like theano) use environment variables to control behavior, %env is the most convenient way."
   ]
  },
  {
   "cell_type": "code",
   "execution_count": null,
   "metadata": {},
   "outputs": [],
   "source": [
    "# Running %env without any arguments\n",
    "# lists all environment variables# The line below sets the environment\n",
    "# variable\n",
    "%env OMP_NUM_THREADS%env OMP_NUM_THREADS=4"
   ]
  },
  {
   "cell_type": "markdown",
   "metadata": {},
   "source": [
    "7. IPython Magic – %run: Execute python code\n",
    "%run can execute python code from .py files – this is well-documented behavior. Lesser known is the fact that it can also execute other jupyter notebooks, which can quite useful.\n",
    "Note that using %run is not the same as importing a python module."
   ]
  },
  {
   "cell_type": "code",
   "execution_count": null,
   "metadata": {},
   "outputs": [],
   "source": [
    "# this will execute and show the output from\n",
    "# all code cells of the specified notebook\n",
    "%run ./two-histograms.ipynb"
   ]
  },
  {
   "cell_type": "markdown",
   "metadata": {},
   "source": [
    "8. IPython Magic – %load: Insert the code from an external script\n",
    "This will replace the contents of the cell with an external script. You can either use a file on your computer as a source, or alternatively a URL."
   ]
  },
  {
   "cell_type": "code",
   "execution_count": null,
   "metadata": {},
   "outputs": [],
   "source": [
    "# Before Running\n",
    "%load ./hello_world.py\n",
    "# After Running\n",
    "# %load ./hello_world.py\n",
    "if __name__ == \"__main__\":\n",
    "print(\"Hello World!\")"
   ]
  },
  {
   "cell_type": "code",
   "execution_count": null,
   "metadata": {},
   "outputs": [],
   "source": []
  },
  {
   "cell_type": "code",
   "execution_count": null,
   "metadata": {},
   "outputs": [],
   "source": []
  },
  {
   "cell_type": "code",
   "execution_count": null,
   "metadata": {},
   "outputs": [],
   "source": []
  },
  {
   "cell_type": "code",
   "execution_count": null,
   "metadata": {},
   "outputs": [],
   "source": []
  },
  {
   "cell_type": "code",
   "execution_count": null,
   "metadata": {},
   "outputs": [],
   "source": []
  },
  {
   "cell_type": "code",
   "execution_count": null,
   "metadata": {},
   "outputs": [],
   "source": []
  },
  {
   "cell_type": "code",
   "execution_count": null,
   "metadata": {},
   "outputs": [],
   "source": []
  },
  {
   "cell_type": "code",
   "execution_count": null,
   "metadata": {},
   "outputs": [],
   "source": []
  },
  {
   "cell_type": "code",
   "execution_count": null,
   "metadata": {},
   "outputs": [],
   "source": []
  },
  {
   "cell_type": "code",
   "execution_count": null,
   "metadata": {},
   "outputs": [],
   "source": []
  },
  {
   "cell_type": "code",
   "execution_count": null,
   "metadata": {},
   "outputs": [],
   "source": []
  },
  {
   "cell_type": "markdown",
   "metadata": {},
   "source": [
    "Imbalanced classification: credit card fraud detection\n",
    "Description: Demonstration of how to handle highly imbalanced classification problems.\n",
    "This example looks at the Kaggle Credit Card Fraud Detection dataset to demonstrate how to train a classification model on data with highly imbalanced classes."
   ]
  },
  {
   "cell_type": "code",
   "execution_count": null,
   "metadata": {},
   "outputs": [],
   "source": [
    "from tensorflow import keras\n",
    "# Get the real data from https://www.kaggle.com/mlg-ulb/creditcardfraud/\n",
    "\n",
    "data_file_url = (\n",
    "    \"https://www.kaggle.com/mlg-ulb/creditcardfraud/creditcard.csv\"\n",
    ")\n",
    "csv_download = keras.utils.get_file(\n",
    "    \"creditcard.csv\", data_file_url, extract=False\n",
    ")\n"
   ]
  },
  {
   "cell_type": "code",
   "execution_count": 5,
   "metadata": {},
   "outputs": [
    {
     "name": "stdout",
     "output_type": "stream",
     "text": [
      "HEADER: \"Time\",\"V1\",\"V2\",\"V3\",\"V4\",\"V5\",\"V6\",\"V7\",\"V8\",\"V9\",\"V10\",\"V11\",\"V12\",\"V13\",\"V14\",\"V15\",\"V16\",\"V17\",\"V18\",\"V19\",\"V20\",\"V21\",\"V22\",\"V23\",\"V24\",\"V25\",\"V26\",\"V27\",\"V28\",\"Amount\",\"Class\"\n",
      "EXAMPLE FEATURES: [0.0, -1.3598071336738, -0.0727811733098497, 2.53634673796914, 1.37815522427443, -0.338320769942518, 0.462387777762292, 0.239598554061257, 0.0986979012610507, 0.363786969611213, 0.0907941719789316, -0.551599533260813, -0.617800855762348, -0.991389847235408, -0.311169353699879, 1.46817697209427, -0.470400525259478, 0.207971241929242, 0.0257905801985591, 0.403992960255733, 0.251412098239705, -0.018306777944153, 0.277837575558899, -0.110473910188767, 0.0669280749146731, 0.128539358273528, -0.189114843888824, 0.133558376740387, -0.0210530534538215, 149.62]\n",
      "features.shape: (284807, 30)\n",
      "targets.shape: (284807, 1)\n"
     ]
    }
   ],
   "source": [
    "#vectorize the CSV data\n",
    "import csv\n",
    "import numpy as np\n",
    "\n",
    "from tensorflow import keras\n",
    "# Get the real data from https://www.kaggle.com/mlg-ulb/creditcardfraud/\n",
    "\n",
    "fname = \"/Users/lcao@us.ibm.com/keras_example_structured/creditcard.csv\"\n",
    "\n",
    "all_features = []\n",
    "all_targets = []\n",
    "with open(fname) as f:\n",
    "    for i, line in enumerate(f):\n",
    "        if i == 0:\n",
    "            print(\"HEADER:\", line.strip())\n",
    "            continue  # Skip header\n",
    "        fields = line.strip().split(\",\")\n",
    "        all_features.append([float(v.replace('\"', \"\")) for v in fields[:-1]])\n",
    "        all_targets.append([int(fields[-1].replace('\"', \"\"))])\n",
    "        if i == 1:\n",
    "            print(\"EXAMPLE FEATURES:\", all_features[-1])\n",
    "\n",
    "features = np.array(all_features, dtype=\"float32\")\n",
    "targets = np.array(all_targets, dtype=\"uint8\")\n",
    "print(\"features.shape:\", features.shape)\n",
    "print(\"targets.shape:\", targets.shape)"
   ]
  },
  {
   "cell_type": "code",
   "execution_count": 6,
   "metadata": {},
   "outputs": [
    {
     "name": "stdout",
     "output_type": "stream",
     "text": [
      "Number of training samples: 227846\n",
      "Number of validation samples: 56961\n"
     ]
    }
   ],
   "source": [
    "#Prepare a validation set\n",
    "num_val_samples = int(len(features) * 0.2)\n",
    "train_features = features[:-num_val_samples]\n",
    "train_targets = targets[:-num_val_samples]\n",
    "val_features = features[-num_val_samples:]\n",
    "val_targets = targets[-num_val_samples:]\n",
    "\n",
    "print(\"Number of training samples:\", len(train_features))\n",
    "print(\"Number of validation samples:\", len(val_features))"
   ]
  },
  {
   "cell_type": "code",
   "execution_count": 7,
   "metadata": {},
   "outputs": [
    {
     "name": "stdout",
     "output_type": "stream",
     "text": [
      "Number of positive samples in training data: 417 (0.18% of total)\n"
     ]
    }
   ],
   "source": [
    "#Analyze class imbalance in the targets\n",
    "counts = np.bincount(train_targets[:, 0])\n",
    "print(\n",
    "    \"Number of positive samples in training data: {} ({:.2f}% of total)\".format(\n",
    "        counts[1], 100 * float(counts[1]) / len(train_targets)\n",
    "    )\n",
    ")\n",
    "\n",
    "weight_for_0 = 1.0 / counts[0]\n",
    "weight_for_1 = 1.0 / counts[1]"
   ]
  },
  {
   "cell_type": "code",
   "execution_count": null,
   "metadata": {},
   "outputs": [],
   "source": [
    "#Normalize the data using training set statistics\n",
    "mean = np.mean(train_features, axis=0)\n",
    "train_features -= mean\n",
    "val_features -= mean\n",
    "std = np.std(train_features, axis=0)\n",
    "train_features /= std\n",
    "val_features /= std"
   ]
  },
  {
   "cell_type": "code",
   "execution_count": 11,
   "metadata": {},
   "outputs": [
    {
     "name": "stdout",
     "output_type": "stream",
     "text": [
      "30 227846 30\n"
     ]
    }
   ],
   "source": [
    "print(train_features.shape[-1], train_features.shape[0], train_features.shape[1])"
   ]
  },
  {
   "cell_type": "code",
   "execution_count": 8,
   "metadata": {},
   "outputs": [
    {
     "name": "stdout",
     "output_type": "stream",
     "text": [
      "Model: \"sequential\"\n",
      "_________________________________________________________________\n",
      "Layer (type)                 Output Shape              Param #   \n",
      "=================================================================\n",
      "dense (Dense)                (None, 256)               7936      \n",
      "_________________________________________________________________\n",
      "dense_1 (Dense)              (None, 256)               65792     \n",
      "_________________________________________________________________\n",
      "dropout (Dropout)            (None, 256)               0         \n",
      "_________________________________________________________________\n",
      "dense_2 (Dense)              (None, 256)               65792     \n",
      "_________________________________________________________________\n",
      "dropout_1 (Dropout)          (None, 256)               0         \n",
      "_________________________________________________________________\n",
      "dense_3 (Dense)              (None, 1)                 257       \n",
      "=================================================================\n",
      "Total params: 139,777\n",
      "Trainable params: 139,777\n",
      "Non-trainable params: 0\n",
      "_________________________________________________________________\n"
     ]
    }
   ],
   "source": [
    "#Build a binary classification model\n",
    "from tensorflow import keras\n",
    "\n",
    "model = keras.Sequential(\n",
    "    [\n",
    "        keras.layers.Dense(\n",
    "            256, activation=\"relu\", input_shape=(train_features.shape[-1],)\n",
    "        ),\n",
    "        keras.layers.Dense(256, activation=\"relu\"),\n",
    "        keras.layers.Dropout(0.3),\n",
    "        keras.layers.Dense(256, activation=\"relu\"),\n",
    "        keras.layers.Dropout(0.3),\n",
    "        keras.layers.Dense(1, activation=\"sigmoid\"),\n",
    "    ]\n",
    ")\n",
    "model.summary()"
   ]
  },
  {
   "cell_type": "code",
   "execution_count": null,
   "metadata": {},
   "outputs": [],
   "source": [
    "#7936 = 256*30 + 256 (bias)\n",
    "#65792 = 256 * 256 + 256 (bias)"
   ]
  },
  {
   "cell_type": "code",
   "execution_count": 15,
   "metadata": {},
   "outputs": [
    {
     "name": "stdout",
     "output_type": "stream",
     "text": [
      "Epoch 1/20\n",
      "112/112 - 2s - loss: 6.0948e-06 - fn: 256.0000 - fp: 85669.0000 - tn: 141760.0000 - tp: 161.0000 - precision: 0.0019 - recall: 0.3861 - val_loss: 0.6968 - val_fn: 0.0000e+00 - val_fp: 56886.0000 - val_tn: 0.0000e+00 - val_tp: 75.0000 - val_precision: 0.0013 - val_recall: 1.0000\n",
      "Epoch 2/20\n",
      "112/112 - 2s - loss: 6.0928e-06 - fn: 280.0000 - fp: 74315.0000 - tn: 153114.0000 - tp: 137.0000 - precision: 0.0018 - recall: 0.3285 - val_loss: 0.7231 - val_fn: 0.0000e+00 - val_fp: 56886.0000 - val_tn: 0.0000e+00 - val_tp: 75.0000 - val_precision: 0.0013 - val_recall: 1.0000\n",
      "Epoch 3/20\n",
      "112/112 - 2s - loss: 6.1002e-06 - fn: 169.0000 - fp: 142405.0000 - tn: 85024.0000 - tp: 248.0000 - precision: 0.0017 - recall: 0.5947 - val_loss: 0.7257 - val_fn: 0.0000e+00 - val_fp: 56886.0000 - val_tn: 0.0000e+00 - val_tp: 75.0000 - val_precision: 0.0013 - val_recall: 1.0000\n",
      "Epoch 4/20\n",
      "112/112 - 2s - loss: 6.0897e-06 - fn: 143.0000 - fp: 149985.0000 - tn: 77444.0000 - tp: 274.0000 - precision: 0.0018 - recall: 0.6571 - val_loss: 0.6848 - val_fn: 75.0000 - val_fp: 0.0000e+00 - val_tn: 56886.0000 - val_tp: 0.0000e+00 - val_precision: 0.0000e+00 - val_recall: 0.0000e+00\n",
      "Epoch 5/20\n",
      "112/112 - 2s - loss: 6.0884e-06 - fn: 213.0000 - fp: 110199.0000 - tn: 117230.0000 - tp: 204.0000 - precision: 0.0018 - recall: 0.4892 - val_loss: 0.6929 - val_fn: 75.0000 - val_fp: 0.0000e+00 - val_tn: 56886.0000 - val_tp: 0.0000e+00 - val_precision: 0.0000e+00 - val_recall: 0.0000e+00\n",
      "Epoch 6/20\n",
      "112/112 - 2s - loss: 6.0910e-06 - fn: 118.0000 - fp: 179278.0000 - tn: 48151.0000 - tp: 299.0000 - precision: 0.0017 - recall: 0.7170 - val_loss: 0.6965 - val_fn: 0.0000e+00 - val_fp: 56886.0000 - val_tn: 0.0000e+00 - val_tp: 75.0000 - val_precision: 0.0013 - val_recall: 1.0000\n",
      "Epoch 7/20\n",
      "112/112 - 2s - loss: 6.0892e-06 - fn: 270.0000 - fp: 80687.0000 - tn: 146742.0000 - tp: 147.0000 - precision: 0.0018 - recall: 0.3525 - val_loss: 0.7136 - val_fn: 0.0000e+00 - val_fp: 56886.0000 - val_tn: 0.0000e+00 - val_tp: 75.0000 - val_precision: 0.0013 - val_recall: 1.0000\n",
      "Epoch 8/20\n",
      "112/112 - 2s - loss: 6.0890e-06 - fn: 189.0000 - fp: 126884.0000 - tn: 100545.0000 - tp: 228.0000 - precision: 0.0018 - recall: 0.5468 - val_loss: 0.6783 - val_fn: 75.0000 - val_fp: 0.0000e+00 - val_tn: 56886.0000 - val_tp: 0.0000e+00 - val_precision: 0.0000e+00 - val_recall: 0.0000e+00\n",
      "Epoch 9/20\n",
      "112/112 - 2s - loss: 6.0877e-06 - fn: 145.0000 - fp: 156785.0000 - tn: 70644.0000 - tp: 272.0000 - precision: 0.0017 - recall: 0.6523 - val_loss: 0.7079 - val_fn: 0.0000e+00 - val_fp: 56886.0000 - val_tn: 0.0000e+00 - val_tp: 75.0000 - val_precision: 0.0013 - val_recall: 1.0000\n",
      "Epoch 10/20\n",
      "112/112 - 2s - loss: 6.0865e-06 - fn: 0.0000e+00 - fp: 227324.0000 - tn: 105.0000 - tp: 417.0000 - precision: 0.0018 - recall: 1.0000 - val_loss: 0.6943 - val_fn: 0.0000e+00 - val_fp: 56886.0000 - val_tn: 0.0000e+00 - val_tp: 75.0000 - val_precision: 0.0013 - val_recall: 1.0000\n",
      "Epoch 11/20\n",
      "112/112 - 2s - loss: 6.0873e-06 - fn: 149.0000 - fp: 143214.0000 - tn: 84215.0000 - tp: 268.0000 - precision: 0.0019 - recall: 0.6427 - val_loss: 0.6829 - val_fn: 75.0000 - val_fp: 0.0000e+00 - val_tn: 56886.0000 - val_tp: 0.0000e+00 - val_precision: 0.0000e+00 - val_recall: 0.0000e+00\n",
      "Epoch 12/20\n",
      "112/112 - 2s - loss: 6.0893e-06 - fn: 192.0000 - fp: 134803.0000 - tn: 92626.0000 - tp: 225.0000 - precision: 0.0017 - recall: 0.5396 - val_loss: 0.6909 - val_fn: 75.0000 - val_fp: 0.0000e+00 - val_tn: 56886.0000 - val_tp: 0.0000e+00 - val_precision: 0.0000e+00 - val_recall: 0.0000e+00\n",
      "Epoch 13/20\n",
      "112/112 - 2s - loss: 6.0862e-06 - fn: 391.0000 - fp: 20454.0000 - tn: 206975.0000 - tp: 26.0000 - precision: 0.0013 - recall: 0.0624 - val_loss: 0.6851 - val_fn: 75.0000 - val_fp: 0.0000e+00 - val_tn: 56886.0000 - val_tp: 0.0000e+00 - val_precision: 0.0000e+00 - val_recall: 0.0000e+00\n",
      "Epoch 14/20\n",
      "112/112 - 2s - loss: 6.0873e-06 - fn: 199.0000 - fp: 118032.0000 - tn: 109397.0000 - tp: 218.0000 - precision: 0.0018 - recall: 0.5228 - val_loss: 0.6980 - val_fn: 0.0000e+00 - val_fp: 56886.0000 - val_tn: 0.0000e+00 - val_tp: 75.0000 - val_precision: 0.0013 - val_recall: 1.0000\n",
      "Epoch 15/20\n",
      "112/112 - 2s - loss: 6.0868e-06 - fn: 377.0000 - fp: 28235.0000 - tn: 199194.0000 - tp: 40.0000 - precision: 0.0014 - recall: 0.0959 - val_loss: 0.6911 - val_fn: 75.0000 - val_fp: 0.0000e+00 - val_tn: 56886.0000 - val_tp: 0.0000e+00 - val_precision: 0.0000e+00 - val_recall: 0.0000e+00\n",
      "Epoch 16/20\n",
      "112/112 - 2s - loss: 6.0879e-06 - fn: 134.0000 - fp: 160912.0000 - tn: 66517.0000 - tp: 283.0000 - precision: 0.0018 - recall: 0.6787 - val_loss: 0.6850 - val_fn: 75.0000 - val_fp: 0.0000e+00 - val_tn: 56886.0000 - val_tp: 0.0000e+00 - val_precision: 0.0000e+00 - val_recall: 0.0000e+00\n",
      "Epoch 17/20\n",
      "112/112 - 2s - loss: 6.0869e-06 - fn: 124.0000 - fp: 160907.0000 - tn: 66522.0000 - tp: 293.0000 - precision: 0.0018 - recall: 0.7026 - val_loss: 0.6673 - val_fn: 75.0000 - val_fp: 0.0000e+00 - val_tn: 56886.0000 - val_tp: 0.0000e+00 - val_precision: 0.0000e+00 - val_recall: 0.0000e+00\n",
      "Epoch 18/20\n",
      "112/112 - 2s - loss: 6.0884e-06 - fn: 396.0000 - fp: 14315.0000 - tn: 213114.0000 - tp: 21.0000 - precision: 0.0015 - recall: 0.0504 - val_loss: 0.6860 - val_fn: 75.0000 - val_fp: 0.0000e+00 - val_tn: 56886.0000 - val_tp: 0.0000e+00 - val_precision: 0.0000e+00 - val_recall: 0.0000e+00\n",
      "Epoch 19/20\n",
      "112/112 - 2s - loss: 6.0883e-06 - fn: 264.0000 - fp: 85863.0000 - tn: 141566.0000 - tp: 153.0000 - precision: 0.0018 - recall: 0.3669 - val_loss: 0.6941 - val_fn: 0.0000e+00 - val_fp: 56886.0000 - val_tn: 0.0000e+00 - val_tp: 75.0000 - val_precision: 0.0013 - val_recall: 1.0000\n",
      "Epoch 20/20\n",
      "112/112 - 2s - loss: 6.0872e-06 - fn: 5.0000 - fp: 223277.0000 - tn: 4152.0000 - tp: 412.0000 - precision: 0.0018 - recall: 0.9880 - val_loss: 0.6909 - val_fn: 75.0000 - val_fp: 0.0000e+00 - val_tn: 56886.0000 - val_tp: 0.0000e+00 - val_precision: 0.0000e+00 - val_recall: 0.0000e+00\n"
     ]
    },
    {
     "data": {
      "text/plain": [
       "<tensorflow.python.keras.callbacks.History at 0x657bc83d0>"
      ]
     },
     "execution_count": 15,
     "metadata": {},
     "output_type": "execute_result"
    }
   ],
   "source": [
    "#Train the model with class_weight argument\n",
    "metrics = [\n",
    "    keras.metrics.FalseNegatives(name=\"fn\"),\n",
    "    keras.metrics.FalsePositives(name=\"fp\"),\n",
    "    keras.metrics.TrueNegatives(name=\"tn\"),\n",
    "    keras.metrics.TruePositives(name=\"tp\"),\n",
    "    keras.metrics.Precision(name=\"precision\"),\n",
    "    keras.metrics.Recall(name=\"recall\"),\n",
    "]\n",
    "\n",
    "model.compile(\n",
    "    optimizer=keras.optimizers.Adam(1e-2), loss=\"binary_crossentropy\", metrics=metrics\n",
    ")\n",
    "\n",
    "callbacks = [keras.callbacks.ModelCheckpoint(\"fraud_model_at_epoch_{epoch}.h5\")]\n",
    "class_weight = {0: weight_for_0, 1: weight_for_1}\n",
    "\n",
    "model.fit(\n",
    "    train_features,\n",
    "    train_targets,\n",
    "    batch_size=2048,\n",
    "    epochs=20,\n",
    "    verbose=2,\n",
    "    callbacks=callbacks,\n",
    "    validation_data=(val_features, val_targets),\n",
    "    class_weight=class_weight,\n",
    ")"
   ]
  },
  {
   "cell_type": "code",
   "execution_count": null,
   "metadata": {},
   "outputs": [],
   "source": [
    "Conclusions\n",
    "At the end of training, out of 56,961 validation transactions, we are:\n",
    "\n",
    "Correctly identifying 66 of them as fraudulent\n",
    "Missing 9 fraudulent transactions\n",
    "At the cost of incorrectly flagging 441 legitimate transactions\n",
    "In the real world, one would put an even higher weight on class 1, so as to reflect that False Negatives are more costly than False Positives.\n",
    "\n",
    "Next time your credit card gets declined in an online purchase -- this is why.\n"
   ]
  },
  {
   "cell_type": "code",
   "execution_count": null,
   "metadata": {},
   "outputs": [],
   "source": []
  },
  {
   "cell_type": "code",
   "execution_count": null,
   "metadata": {},
   "outputs": [],
   "source": []
  },
  {
   "cell_type": "code",
   "execution_count": null,
   "metadata": {},
   "outputs": [],
   "source": []
  },
  {
   "cell_type": "code",
   "execution_count": null,
   "metadata": {},
   "outputs": [],
   "source": []
  },
  {
   "cell_type": "code",
   "execution_count": null,
   "metadata": {},
   "outputs": [],
   "source": []
  },
  {
   "cell_type": "code",
   "execution_count": null,
   "metadata": {},
   "outputs": [],
   "source": []
  },
  {
   "cell_type": "code",
   "execution_count": null,
   "metadata": {},
   "outputs": [],
   "source": []
  },
  {
   "cell_type": "code",
   "execution_count": null,
   "metadata": {},
   "outputs": [],
   "source": []
  }
 ],
 "metadata": {
  "kernelspec": {
   "display_name": "Python 3",
   "language": "python",
   "name": "python3"
  },
  "language_info": {
   "codemirror_mode": {
    "name": "ipython",
    "version": 3
   },
   "file_extension": ".py",
   "mimetype": "text/x-python",
   "name": "python",
   "nbconvert_exporter": "python",
   "pygments_lexer": "ipython3",
   "version": "3.7.6"
  }
 },
 "nbformat": 4,
 "nbformat_minor": 4
}
