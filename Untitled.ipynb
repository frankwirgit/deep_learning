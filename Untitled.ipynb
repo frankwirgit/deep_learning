{
 "cells": [
  {
   "cell_type": "code",
   "execution_count": 155,
   "metadata": {},
   "outputs": [
    {
     "name": "stdout",
     "output_type": "stream",
     "text": [
      "{'resourceType': 'Patient', 'active': True, 'name': [{'use': 'official', 'family': 'Flanders', 'given': ['Nedward', 'Ned'], 'prefix': ['Mr']}], 'telecom': [{'system': 'phone', 'value': '5555551112', 'use': 'home'}, {'system': 'email', 'value': 'ned.flanders@email.com', 'use': 'home'}], 'gender': 'male', 'birthDate': '1989-12-17', 'address': [{'use': 'home', 'type': 'postal', 'text': '744 Evergreen Terrace Springfield, IL 90210', 'line': ['744 Evergreen Terrace'], 'city': 'Springfield', 'state': 'IL', 'postalCode': '90210', 'country': 'USA'}]}\n",
      "True\n",
      "True\n",
      "true\n"
     ]
    }
   ],
   "source": [
    "import os\n",
    "import json\n",
    "\n",
    "#print(os.listdir('.'))\n",
    "\n",
    "\n",
    "#with open('/Users/lcao@us.ibm.com/Downloads/restapi/git/test-flask-rest/tests/records.json') as f:\n",
    "with open('/Users/lcao@us.ibm.com/Downloads/restapi/git/test-flask-rest/tests/fhir-patient-post.json') as f:\n",
    "    d = json.load(f)\n",
    "d2  = d.copy()\n",
    "del d2[\"gender\"]\n",
    "type(d)\n",
    "print(d)\n",
    "#print(d2)\n",
    "d3 = d.copy()\n",
    "#print(d3[\"name\"])\n",
    "del d3[\"name\"][0][\"family\"]\n",
    "d3[\"address\"][0][\"postalCode\"]=\"902109\"\n",
    "print(d3[\"active\"])\n",
    "print(bool(d3[\"active\"]))\n",
    "print(str(bool(d3[\"active\"])).lower())\n",
    "#print(d[0].name[0].family)\n",
    "#if (d[0].get(\"birthDate\")==None):\n",
    "#    print(\"NULL\")\n",
    "#else:\n",
    "#    print(d[0][\"birthDate\"])\n"
   ]
  },
  {
   "cell_type": "code",
   "execution_count": 22,
   "metadata": {},
   "outputs": [
    {
     "name": "stdout",
     "output_type": "stream",
     "text": [
      "invaid %s 9455-1223\n"
     ]
    }
   ],
   "source": [
    "import re\n",
    "\n",
    "# Zip code mapping with regular expression\n",
    "zipCode = re.compile(r\"^[0-9]{5}(?:-[0-9]{4})?$\")\n",
    "sample=\"9455-1223\"\n",
    "if zipCode.match(sample):\n",
    "    print(\"valid: %s\", sample)\n",
    "else:\n",
    "    print(\"invaid %s\", sample)       "
   ]
  },
  {
   "cell_type": "code",
   "execution_count": 37,
   "metadata": {},
   "outputs": [
    {
     "name": "stdout",
     "output_type": "stream",
     "text": [
      "invaid %s (510)  739-9795 \n"
     ]
    }
   ],
   "source": [
    "import re\n",
    "phoneNumb = re.compile(r\"^\\([0-9]{3}\\)\\s*[0-9]{3}-[0-9]{4}$\")\n",
    "p=\"(510)  739-9795 \"\n",
    "if phoneNumb.match(p):\n",
    "    print(\"valid: %s\", p)\n",
    "else:\n",
    "    print(\"invaid %s\", p)   "
   ]
  },
  {
   "cell_type": "code",
   "execution_count": 39,
   "metadata": {},
   "outputs": [
    {
     "name": "stdout",
     "output_type": "stream",
     "text": [
      "Collecting email_validator\n",
      "  Downloading https://files.pythonhosted.org/packages/45/54/1a1da475b684aa4eb30da169ea5ebd9341a5d3138138bc2b365222b9ac87/email_validator-1.1.0-py2.py3-none-any.whl\n",
      "Collecting dnspython>=1.15.0 (from email_validator)\n",
      "\u001b[?25l  Downloading https://files.pythonhosted.org/packages/ec/d3/3aa0e7213ef72b8585747aa0e271a9523e713813b9a20177ebe1e939deb0/dnspython-1.16.0-py2.py3-none-any.whl (188kB)\n",
      "\u001b[K    100% |████████████████████████████████| 194kB 2.9MB/s ta 0:00:01\n",
      "\u001b[?25hRequirement already satisfied: idna>=2.0.0 in ./anaconda3/lib/python3.6/site-packages (from email_validator) (2.6)\n",
      "Installing collected packages: dnspython, email-validator\n",
      "Successfully installed dnspython-1.16.0 email-validator-1.1.0\n",
      "\u001b[33mYou are using pip version 18.1, however version 20.1 is available.\n",
      "You should consider upgrading via the 'pip install --upgrade pip' command.\u001b[0m\n"
     ]
    }
   ],
   "source": [
    "!pip install email_validator"
   ]
  },
  {
   "cell_type": "code",
   "execution_count": 55,
   "metadata": {},
   "outputs": [
    {
     "name": "stdout",
     "output_type": "stream",
     "text": [
      "This is an Invalid email address\n"
     ]
    }
   ],
   "source": [
    "from email_validator import validate_email, EmailNotValidError\n",
    "em ='lcao@us.@ibm.com'\n",
    "#em = None\n",
    "try:\n",
    "    if(em):\n",
    "        myemail = validate_email(em).email\n",
    "    else:\n",
    "        myemail = None\n",
    "    print(myemail)   \n",
    "except EmailNotValidError as error:\n",
    "    print(\"This is an Invalid email address\")"
   ]
  },
  {
   "cell_type": "code",
   "execution_count": 100,
   "metadata": {},
   "outputs": [
    {
     "name": "stdout",
     "output_type": "stream",
     "text": [
      "<class 'datetime.datetime'>\n",
      "<class 'datetime.datetime'>\n",
      "<class 'str'>\n",
      "1977-09-30\n",
      "the DOB string= 2020-05-07\n"
     ]
    }
   ],
   "source": [
    "from datetime import datetime\n",
    "dob=\"1977-09-30\"\n",
    "try:\n",
    "    date_of_birth = datetime.strptime(dob, \"%Y-%m-%d\")\n",
    "    dobstring = date_of_birth.strftime(\"%Y-%m-%d\")\n",
    "    #print(date_of_birth.date())\n",
    "    print(type(date_of_birth))\n",
    "    print(type(datetime.now()))\n",
    "    print(type(dobstring))\n",
    "    print(dobstring)\n",
    "    print(\"the DOB string=\", datetime.now().strftime(\"%Y-%m-%d\"))\n",
    "except ValueError as error:\n",
    "    print(\"Incorrect date or format!\")"
   ]
  },
  {
   "cell_type": "code",
   "execution_count": 109,
   "metadata": {},
   "outputs": [
    {
     "name": "stdout",
     "output_type": "stream",
     "text": [
      "<enum 'Gender'>\n",
      "<enum 'Gender'>\n",
      "Male 1\n"
     ]
    }
   ],
   "source": [
    "from enum import Enum\n",
    "class Gender(Enum):\n",
    "    \"\"\" Enumeration of valid Genders \"\"\"\n",
    "    Male = 1\n",
    "    Female = 2\n",
    "    Unknown = 3\n",
    "\n",
    "#print(Gender.Unknown.value)\n",
    "gender = getattr(Gender, \"Male\")\n",
    "print(type(gender))\n",
    "print(type(Gender.Female))\n",
    "print(gender.name, gender.value)\n"
   ]
  },
  {
   "cell_type": "code",
   "execution_count": 88,
   "metadata": {},
   "outputs": [
    {
     "name": "stdout",
     "output_type": "stream",
     "text": [
      "2020-05-07\n",
      "2020-05-08 00:52:20.936281\n",
      "<class 'datetime.datetime'>\n"
     ]
    }
   ],
   "source": [
    "print(datetime.now().date())\n",
    "print(datetime.utcnow())\n",
    "print(type(datetime.utcnow()))"
   ]
  },
  {
   "cell_type": "code",
   "execution_count": 110,
   "metadata": {},
   "outputs": [
    {
     "name": "stdout",
     "output_type": "stream",
     "text": [
      "12\n",
      "{'title': 'Mrs.', 'fname': 'Jillian', 'mname': 'Francisco', 'lname': 'Mahoney', 'street': '444 North State Street', 'postal_code': '90204', 'city': 'Santa Ana', 'state': 'CA', 'phone_home': '(808) 555-4444', 'email': 'j.mahoney@email.com', 'DOB': '1968-08-11', 'sex': 'Female'}\n",
      "j.mahoney@email.com\n",
      "None\n"
     ]
    }
   ],
   "source": [
    "data = d[9]\n",
    "print(len(d))\n",
    "print(data)\n",
    "print(data.get(\"email\"))\n",
    "if(not data.get(\"email\")):\n",
    "    myemail = validate_email(data.get(\"email\")).email\n",
    "    print()\n",
    "print (myemail)\n",
    "    \n",
    "    "
   ]
  },
  {
   "cell_type": "code",
   "execution_count": 2,
   "metadata": {},
   "outputs": [
    {
     "name": "stdout",
     "output_type": "stream",
     "text": [
      "[[100 110]\n",
      " [120 130]\n",
      " [140 150]\n",
      " [160 170]\n",
      " [180 190]]\n"
     ]
    },
    {
     "data": {
      "image/png": "[encoded data removed]",
      "text/plain": [
       "<Figure size 432x288 with 1 Axes>"
      ]
     },
     "metadata": {
      "needs_background": "light"
     },
     "output_type": "display_data"
    }
   ],
   "source": [
    "import numpy as np\n",
    "import matplotlib.pyplot as plt\n",
    "\n",
    "samplear=np.arange(100,200,10)\n",
    "samplear=samplear.reshape(5,2)\n",
    "print(samplear)\n",
    "x=samplear[:,0:1]\n",
    "y=samplear[:,1:2]\n",
    "\n",
    "plt.plot(x,y)\n",
    "plt.show()\n"
   ]
  },
  {
   "cell_type": "code",
   "execution_count": 1,
   "metadata": {},
   "outputs": [],
   "source": [
    "import pandas as pd\n",
    "import numpy as np"
   ]
  },
  {
   "cell_type": "code",
   "execution_count": 4,
   "metadata": {},
   "outputs": [
    {
     "data": {
      "text/html": [
       "<div>\n",
       "<style scoped>\n",
       "    .dataframe tbody tr th:only-of-type {\n",
       "        vertical-align: middle;\n",
       "    }\n",
       "\n",
       "    .dataframe tbody tr th {\n",
       "        vertical-align: top;\n",
       "    }\n",
       "\n",
       "    .dataframe thead th {\n",
       "        text-align: right;\n",
       "    }\n",
       "</style>\n",
       "<table border=\"1\" class=\"dataframe\">\n",
       "  <thead>\n",
       "    <tr style=\"text-align: right;\">\n",
       "      <th></th>\n",
       "      <th>A</th>\n",
       "      <th>B</th>\n",
       "      <th>C</th>\n",
       "      <th>D</th>\n",
       "    </tr>\n",
       "  </thead>\n",
       "  <tbody>\n",
       "    <tr>\n",
       "      <th>0</th>\n",
       "      <td>59</td>\n",
       "      <td>57</td>\n",
       "      <td>48</td>\n",
       "      <td>73</td>\n",
       "    </tr>\n",
       "    <tr>\n",
       "      <th>1</th>\n",
       "      <td>60</td>\n",
       "      <td>19</td>\n",
       "      <td>55</td>\n",
       "      <td>40</td>\n",
       "    </tr>\n",
       "    <tr>\n",
       "      <th>2</th>\n",
       "      <td>68</td>\n",
       "      <td>35</td>\n",
       "      <td>46</td>\n",
       "      <td>12</td>\n",
       "    </tr>\n",
       "    <tr>\n",
       "      <th>3</th>\n",
       "      <td>91</td>\n",
       "      <td>56</td>\n",
       "      <td>66</td>\n",
       "      <td>42</td>\n",
       "    </tr>\n",
       "    <tr>\n",
       "      <th>4</th>\n",
       "      <td>97</td>\n",
       "      <td>17</td>\n",
       "      <td>57</td>\n",
       "      <td>41</td>\n",
       "    </tr>\n",
       "    <tr>\n",
       "      <th>5</th>\n",
       "      <td>12</td>\n",
       "      <td>48</td>\n",
       "      <td>24</td>\n",
       "      <td>85</td>\n",
       "    </tr>\n",
       "    <tr>\n",
       "      <th>6</th>\n",
       "      <td>8</td>\n",
       "      <td>16</td>\n",
       "      <td>68</td>\n",
       "      <td>41</td>\n",
       "    </tr>\n",
       "    <tr>\n",
       "      <th>7</th>\n",
       "      <td>96</td>\n",
       "      <td>36</td>\n",
       "      <td>56</td>\n",
       "      <td>68</td>\n",
       "    </tr>\n",
       "    <tr>\n",
       "      <th>8</th>\n",
       "      <td>44</td>\n",
       "      <td>12</td>\n",
       "      <td>15</td>\n",
       "      <td>1</td>\n",
       "    </tr>\n",
       "    <tr>\n",
       "      <th>9</th>\n",
       "      <td>85</td>\n",
       "      <td>34</td>\n",
       "      <td>33</td>\n",
       "      <td>99</td>\n",
       "    </tr>\n",
       "    <tr>\n",
       "      <th>10</th>\n",
       "      <td>45</td>\n",
       "      <td>44</td>\n",
       "      <td>33</td>\n",
       "      <td>9</td>\n",
       "    </tr>\n",
       "    <tr>\n",
       "      <th>11</th>\n",
       "      <td>40</td>\n",
       "      <td>8</td>\n",
       "      <td>51</td>\n",
       "      <td>92</td>\n",
       "    </tr>\n",
       "    <tr>\n",
       "      <th>12</th>\n",
       "      <td>86</td>\n",
       "      <td>43</td>\n",
       "      <td>14</td>\n",
       "      <td>29</td>\n",
       "    </tr>\n",
       "    <tr>\n",
       "      <th>13</th>\n",
       "      <td>22</td>\n",
       "      <td>73</td>\n",
       "      <td>26</td>\n",
       "      <td>31</td>\n",
       "    </tr>\n",
       "    <tr>\n",
       "      <th>14</th>\n",
       "      <td>28</td>\n",
       "      <td>27</td>\n",
       "      <td>15</td>\n",
       "      <td>74</td>\n",
       "    </tr>\n",
       "  </tbody>\n",
       "</table>\n",
       "</div>"
      ],
      "text/plain": [
       "     A   B   C   D\n",
       "0   59  57  48  73\n",
       "1   60  19  55  40\n",
       "2   68  35  46  12\n",
       "3   91  56  66  42\n",
       "4   97  17  57  41\n",
       "5   12  48  24  85\n",
       "6    8  16  68  41\n",
       "7   96  36  56  68\n",
       "8   44  12  15   1\n",
       "9   85  34  33  99\n",
       "10  45  44  33   9\n",
       "11  40   8  51  92\n",
       "12  86  43  14  29\n",
       "13  22  73  26  31\n",
       "14  28  27  15  74"
      ]
     },
     "execution_count": 4,
     "metadata": {},
     "output_type": "execute_result"
    }
   ],
   "source": [
    "#using numpy's randint\n",
    "df = pd.DataFrame(np.random.randint(0,100,size=(15, 4)), columns=['A','B','C','D'])\n",
    "df"
   ]
  },
  {
   "cell_type": "code",
   "execution_count": null,
   "metadata": {},
   "outputs": [],
   "source": []
  }
 ],
 "metadata": {
  "kernelspec": {
   "display_name": "Python 3",
   "language": "python",
   "name": "python3"
  },
  "language_info": {
   "codemirror_mode": {
    "name": "ipython",
    "version": 3
   },
   "file_extension": ".py",
   "mimetype": "text/x-python",
   "name": "python",
   "nbconvert_exporter": "python",
   "pygments_lexer": "ipython3",
   "version": "3.7.6"
  }
 },
 "nbformat": 4,
 "nbformat_minor": 2
}
